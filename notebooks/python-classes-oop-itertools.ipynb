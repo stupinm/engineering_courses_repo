{
 "cells": [
  {
   "cell_type": "markdown",
   "metadata": {},
   "source": [
    "OOP, classes, etc.\n"
   ]
  },
  {
   "cell_type": "code",
   "execution_count": 11,
   "metadata": {},
   "outputs": [],
   "source": [
    "class MyCat:\n",
    "    length=0\n",
    "    width=0\n",
    "\n",
    "    def get_area(self):\n",
    "        return self.length*self.width\n",
    "    \n",
    "    @property\n",
    "    def cat_length(self):\n",
    "        if self.length>100:\n",
    "            raise ValueError ('The cat is too long')\n",
    "        return self.length\n",
    "    @cat_length.setter\n",
    "    def cat_length(self,value):\n",
    "        if isinstance(self,int):\n",
    "            if type(self.length)==int:\n",
    "                return value\n",
    "        else:\n",
    "            raise ValueError('Length must be an integer')\n",
    "        "
   ]
  },
  {
   "cell_type": "code",
   "execution_count": 12,
   "metadata": {},
   "outputs": [
    {
     "ename": "ValueError",
     "evalue": "Length must be an integer",
     "output_type": "error",
     "traceback": [
      "\u001b[0;31m---------------------------------------------------------------------------\u001b[0m",
      "\u001b[0;31mValueError\u001b[0m                                Traceback (most recent call last)",
      "Cell \u001b[0;32mIn[12], line 2\u001b[0m\n\u001b[1;32m      1\u001b[0m cat\u001b[38;5;241m=\u001b[39mMyCat()\n\u001b[0;32m----> 2\u001b[0m \u001b[43mcat\u001b[49m\u001b[38;5;241;43m.\u001b[39;49m\u001b[43mcat_length\u001b[49m\u001b[38;5;241m=\u001b[39m\u001b[38;5;124m'\u001b[39m\u001b[38;5;124mtest\u001b[39m\u001b[38;5;124m'\u001b[39m\n",
      "Cell \u001b[0;32mIn[11], line 19\u001b[0m, in \u001b[0;36mMyCat.cat_length\u001b[0;34m(self, value)\u001b[0m\n\u001b[1;32m     17\u001b[0m         \u001b[38;5;28;01mreturn\u001b[39;00m value\n\u001b[1;32m     18\u001b[0m \u001b[38;5;28;01melse\u001b[39;00m:\n\u001b[0;32m---> 19\u001b[0m     \u001b[38;5;28;01mraise\u001b[39;00m \u001b[38;5;167;01mValueError\u001b[39;00m(\u001b[38;5;124m'\u001b[39m\u001b[38;5;124mLength must be an integer\u001b[39m\u001b[38;5;124m'\u001b[39m)\n",
      "\u001b[0;31mValueError\u001b[0m: Length must be an integer"
     ]
    }
   ],
   "source": [
    "cat=MyCat()\n",
    "cat.cat_length='test'"
   ]
  },
  {
   "cell_type": "code",
   "execution_count": 17,
   "metadata": {},
   "outputs": [
    {
     "name": "stdout",
     "output_type": "stream",
     "text": [
      "from 139828164426720\n",
      "from 94003946355184\n",
      "123\n"
     ]
    }
   ],
   "source": [
    "class Db:\n",
    "    class MySQL:\n",
    "        @staticmethod\n",
    "        def connect():\n",
    "            print('MySQL')\n",
    "    class Postgres:\n",
    "        @staticmethod\n",
    "        def connect():\n",
    "            print('Postgres')\n",
    "    def instance_method(self,value):\n",
    "        print(f'from {id(self)}')\n",
    "    \n",
    "    @classmethod\n",
    "    def class_method(cls,value):\n",
    "        print(f'from {id(cls)}')\n",
    "\n",
    "    @staticmethod\n",
    "    def static_method(value):\n",
    "        print(f'{value}')\n",
    "db= Db()\n",
    "db.instance_method('123')\n",
    "Db.class_method('123')\n",
    "Db.static_method('123')"
   ]
  },
  {
   "cell_type": "code",
   "execution_count": 18,
   "metadata": {},
   "outputs": [
    {
     "name": "stdout",
     "output_type": "stream",
     "text": [
      "Postgres\n"
     ]
    }
   ],
   "source": [
    "Db.Postgres.connect()"
   ]
  },
  {
   "cell_type": "code",
   "execution_count": 40,
   "metadata": {},
   "outputs": [
    {
     "name": "stdout",
     "output_type": "stream",
     "text": [
      "meow\n"
     ]
    },
    {
     "data": {
      "text/plain": [
       "5"
      ]
     },
     "execution_count": 40,
     "metadata": {},
     "output_type": "execute_result"
    }
   ],
   "source": [
    "#наследование: созданные классы можно использовать для конструкции новых, причем новые классы будут обладать всеми методами и свойствами родительского класса\n",
    "class MyCat:\n",
    "    def get_area(self):\n",
    "        return self.length*self.width\n",
    "\n",
    "class SyberianCat(MyCat):\n",
    "    def __init__(self,length=0,width=0): #чтобы класс мог брать аргументы при инициализации\n",
    "        self.length=length\n",
    "        self.width=width\n",
    "    def __call__(self): # to make the class callable sib_cat()\n",
    "        print(f'{self.get_region()}')\n",
    "    def __len__(self): #волшебный метод для использования стандартного метода len()\n",
    "        return self.length\n",
    "    def __str__(self): #волшебный метод для использования стандартного метода print()\n",
    "        return f'Little cat {self.length},{self.width}'\n",
    "    def meow(self):\n",
    "        print('meow')\n",
    "    def get_area(self):\n",
    "        return 2+super().get_area() #чтобы вызвать метод из родительского класса, используем super (для переписываемых классов)\n",
    "    \n",
    "sib_cat=SyberianCat(5,7)\n",
    "sib_cat.meow()\n",
    "sib_cat.get_area() #внутри дочернего класса можно переписать существующий родительский метод, и при вызове будет использоваться дочерний метод\n",
    "len(sib_cat)\n"
   ]
  },
  {
   "cell_type": "code",
   "execution_count": 1,
   "metadata": {},
   "outputs": [],
   "source": [
    "import itertools\n",
    "\n",
    "counter=itertools.count(0,10)"
   ]
  },
  {
   "cell_type": "code",
   "execution_count": 3,
   "metadata": {},
   "outputs": [
    {
     "data": {
      "text/plain": [
       "10"
      ]
     },
     "execution_count": 3,
     "metadata": {},
     "output_type": "execute_result"
    }
   ],
   "source": [
    "next(counter)"
   ]
  },
  {
   "cell_type": "code",
   "execution_count": 5,
   "metadata": {},
   "outputs": [],
   "source": [
    "cycled_letters=itertools.cycle('abcdef')"
   ]
  },
  {
   "cell_type": "code",
   "execution_count": 6,
   "metadata": {},
   "outputs": [
    {
     "name": "stdout",
     "output_type": "stream",
     "text": [
      "a\n",
      "b\n",
      "c\n",
      "d\n",
      "e\n",
      "f\n",
      "a\n",
      "b\n",
      "c\n",
      "d\n"
     ]
    }
   ],
   "source": [
    "for i in cycled_letters:\n",
    "    print(i)\n",
    "    if next(counter)>100:\n",
    "        break"
   ]
  },
  {
   "cell_type": "code",
   "execution_count": 9,
   "metadata": {},
   "outputs": [
    {
     "name": "stdout",
     "output_type": "stream",
     "text": [
      "10\n",
      "10\n",
      "10\n",
      "10\n",
      "10\n"
     ]
    }
   ],
   "source": [
    "for i in itertools.repeat(10,5):\n",
    "    print(i)"
   ]
  },
  {
   "cell_type": "code",
   "execution_count": 13,
   "metadata": {},
   "outputs": [
    {
     "name": "stdout",
     "output_type": "stream",
     "text": [
      "b\n",
      "e\n"
     ]
    }
   ],
   "source": [
    "s='AbCDFe'\n",
    "for m in itertools.compress(s,[j.islower() for j in s]):\n",
    "    print(m)"
   ]
  },
  {
   "cell_type": "code",
   "execution_count": null,
   "metadata": {},
   "outputs": [],
   "source": []
  }
 ],
 "metadata": {
  "kernelspec": {
   "display_name": "Python 3",
   "language": "python",
   "name": "python3"
  },
  "language_info": {
   "codemirror_mode": {
    "name": "ipython",
    "version": 3
   },
   "file_extension": ".py",
   "mimetype": "text/x-python",
   "name": "python",
   "nbconvert_exporter": "python",
   "pygments_lexer": "ipython3",
   "version": "3.10.13"
  }
 },
 "nbformat": 4,
 "nbformat_minor": 2
}
