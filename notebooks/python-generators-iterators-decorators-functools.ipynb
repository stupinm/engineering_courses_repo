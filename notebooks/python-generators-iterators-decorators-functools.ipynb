{
 "cells": [
  {
   "cell_type": "code",
   "execution_count": 1,
   "metadata": {},
   "outputs": [],
   "source": [
    "import functools\n",
    "def print_args(func):\n",
    "    @functools.wraps(func)\n",
    "    def wrapper(*args,**kwargs):\n",
    "        print(f'args={args}')\n",
    "        print(f'kwargs={kwargs}')\n",
    "        result=func(*args,**kwargs)\n",
    "        return result\n",
    "    return wrapper\n",
    "\n",
    "def sum_list(func):\n",
    "    @functools.wraps(func)\n",
    "    def wrapper (*args,**kwargs):\n",
    "        try:\n",
    "            result=args[0]\n",
    "            for arg in args[1:]:\n",
    "                if len(arg)!=len(result):\n",
    "                    raise ValueError('The lists must be of equal length')\n",
    "                for i,add in enumerate(arg):\n",
    "                    result[i]=func(result[i],add)\n",
    "        except TypeError:\n",
    "            result=args[0]\n",
    "            for arg in args[1:]:\n",
    "                result=func(result,arg)\n",
    "        return result\n",
    "    return wrapper\n",
    "@sum_list\n",
    "def sum(a,b):\n",
    "    return a+b"
   ]
  },
  {
   "cell_type": "code",
   "execution_count": 6,
   "metadata": {},
   "outputs": [
    {
     "name": "stdout",
     "output_type": "stream",
     "text": [
      "1+2=3\n",
      "[14, 7, 10]\n",
      "[1, 92, 36]\n"
     ]
    }
   ],
   "source": [
    "print(f'1+2={sum(1,2)}')\n",
    "print(sum([1,2,3],[1,2,3],[12,3,4]))\n",
    "@sum_list\n",
    "def mult(a,b):\n",
    "    return a*b\n",
    "print(mult([1,2,3],[1,2,3],[1,23,4]))"
   ]
  },
  {
   "cell_type": "code",
   "execution_count": 29,
   "metadata": {},
   "outputs": [
    {
     "data": {
      "text/plain": [
       "[4, 10, 16]"
      ]
     },
     "execution_count": 29,
     "metadata": {},
     "output_type": "execute_result"
    }
   ],
   "source": [
    "func=lambda p: [x**p for x in range(1,10)]\n",
    "func(5)\n",
    "l1=[i for i in range(1,20,3)]\n",
    "list(filter(lambda x: x%2==0,l1))"
   ]
  },
  {
   "cell_type": "code",
   "execution_count": 32,
   "metadata": {},
   "outputs": [
    {
     "data": {
      "text/plain": [
       "640"
      ]
     },
     "execution_count": 32,
     "metadata": {},
     "output_type": "execute_result"
    }
   ],
   "source": [
    "from functools import reduce\n",
    "reduce(mult,filter(lambda x: x%2==0,l1))"
   ]
  },
  {
   "cell_type": "code",
   "execution_count": 31,
   "metadata": {},
   "outputs": [
    {
     "data": {
      "text/plain": [
       "640"
      ]
     },
     "execution_count": 31,
     "metadata": {},
     "output_type": "execute_result"
    }
   ],
   "source": [
    "import numpy as np\n",
    "np.prod(list(filter(lambda x: x%2==0,l1)))"
   ]
  },
  {
   "cell_type": "code",
   "execution_count": null,
   "metadata": {},
   "outputs": [],
   "source": []
  }
 ],
 "metadata": {
  "kernelspec": {
   "display_name": "Python 3",
   "language": "python",
   "name": "python3"
  },
  "language_info": {
   "codemirror_mode": {
    "name": "ipython",
    "version": 3
   },
   "file_extension": ".py",
   "mimetype": "text/x-python",
   "name": "python",
   "nbconvert_exporter": "python",
   "pygments_lexer": "ipython3",
   "version": "3.10.13"
  }
 },
 "nbformat": 4,
 "nbformat_minor": 2
}
